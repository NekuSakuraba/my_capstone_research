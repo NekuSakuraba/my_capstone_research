{
 "cells": [
  {
   "cell_type": "markdown",
   "metadata": {},
   "source": [
    "# Diagonalizing a Matrix\n",
    "$\n",
    "\\mathbf{A} x_1 = \\lambda_1 x_1 \\\\\n",
    "\\mathbf{A} x_2 = \\lambda_2 x_2 \\\\\n",
    "\\mathbf{A} \\times \\begin{vmatrix} x_1 & x_2 \\end{vmatrix} = \\begin{vmatrix} \\lambda_1 x_1 & \\lambda_2 x_2 \\end{vmatrix} = \\begin{vmatrix} x_1 & x_2 \\end{vmatrix} \\times \\begin{vmatrix} \\lambda_1 & 0 \\\\ 0 & \\lambda_2 \\end{vmatrix} \\\\\n",
    "THEN \\\\\n",
    "\\mathbf{A} \\mathbf{V} = \\mathbf{V} \\mathbf{\\Lambda} \\\\\n",
    "SO \\\\\n",
    "\\mathbf{V}^{-1} \\mathbf{A} \\mathbf{V} = \\mathbf{\\Lambda} \\\\\n",
    "AND \\\\\n",
    "\\mathbf{A} = \\mathbf{V} \\mathbf{\\Lambda} \\mathbf{V}^{-1}\n",
    "$\n",
    "## Powering\n",
    "$\n",
    "\\mathbf{A}^2 = \\mathbf{V} \\mathbf{\\Lambda} \\mathbf{V}^{-1} \\mathbf{V} \\mathbf{\\Lambda} \\mathbf{V}^{-1} \\\\\n",
    "= \\mathbf{V} \\mathbf{\\Lambda} \\mathbf{\\Lambda} \\mathbf{V}^{-1} \\\\\n",
    "= \\mathbf{V} \\mathbf{\\Lambda}^2 \\mathbf{V}^{-1} \\\\\n",
    "$\n",
    "## Powering to n\n",
    "$\n",
    "\\mathbf{A}^n = \\mathbf{V} \\mathbf{\\Lambda} \\mathbf{V}^{-1} \\mathbf{V} \\mathbf{\\Lambda} \\mathbf{V}^{-1} ... \\\\\n",
    "= \\mathbf{V} \\mathbf{\\Lambda}^n \\mathbf{V}^{-1} \\\\\n",
    "$\n",
    "\n",
    "## Source\n",
    "* https://www.youtube.com/watch?v=U8R54zOTVLw"
   ]
  },
  {
   "cell_type": "markdown",
   "metadata": {},
   "source": [
    "# Markov Matrix\n",
    "$\n",
    "p_1 = \\mathbf{A} p_0, p_2 = \\mathbf{A} p_1 \\\\\n",
    "p_2 = \\mathbf{A} \\mathbf{A} p_0 \\\\\n",
    "p_2 = \\mathbf{A}^2 p_0 \\\\\n",
    "p_2 = \\mathbf{V} \\mathbf{\\Lambda}^2 \\mathbf{V}^{-1} p_0\n",
    "$\n",
    "<p>**If $p_{n+1} = \\mathbf{A} p_n$ then $p_{n} = \\mathbf{A}^n p_0 = \\mathbf{V} \\mathbf{\\Lambda}^n \\mathbf{V}^{-1} p_0$**</p>"
   ]
  },
  {
   "cell_type": "markdown",
   "metadata": {},
   "source": [
    "## Writing p_0 as combination of eigenvectors\n",
    "$\n",
    "p_0 = c_1 x_1 + c_2 x_2 ... c_n x_n => \\mathbf{V}\\mathbf{c} = p_0 => \\mathbf{c} = \\mathbf{V}^{-1} p_0\\\\\n",
    "\\mathbf{A} p_0 = p_1 = c_1 \\lambda_1 x_1 + c_2 \\lambda_2 x_2 ... c_k \\lambda_k x_k \\\\\n",
    "\\mathbf{A}^n p_0 = p_n = c_1 \\lambda_1^n x_1 + c_2 \\lambda_2^n x_2 ... c_k \\lambda_k^n x_k \\\\\n",
    "= p_n = \\mathbf{c} \\mathbf{V} \\mathbf{\\Lambda}^n \\\\\n",
    "= \\mathbf{V} \\mathbf{\\Lambda}^n \\mathbf{V}^{-1} p_0\n",
    "$\n",
    "## Source\n",
    "* https://www.youtube.com/watch?v=xtMzTXHO_zA"
   ]
  },
  {
   "cell_type": "code",
   "execution_count": 12,
   "metadata": {
    "collapsed": true
   },
   "outputs": [],
   "source": [
    "import numpy as np\n",
    "from scipy.linalg import eig, inv\n",
    "from diffmaps_util import k, diag, sort_eigens"
   ]
  },
  {
   "cell_type": "code",
   "execution_count": 13,
   "metadata": {
    "collapsed": false
   },
   "outputs": [
    {
     "data": {
      "text/plain": [
       "array([[ 0.8,  0.2],\n",
       "       [ 0.5,  0.5]])"
      ]
     },
     "execution_count": 13,
     "metadata": {},
     "output_type": "execute_result"
    }
   ],
   "source": [
    "m = np.array([.8, .2, .5, .5]).reshape(2,2)\n",
    "m"
   ]
  },
  {
   "cell_type": "code",
   "execution_count": 14,
   "metadata": {
    "collapsed": false
   },
   "outputs": [
    {
     "name": "stdout",
     "output_type": "stream",
     "text": [
      "[ 0.71428571  0.28571429]\n"
     ]
    }
   ],
   "source": [
    "u0 = np.array([0,1])\n",
    "for i in range(0,50):\n",
    "    u0 = u0.dot(m)\n",
    "print u0"
   ]
  },
  {
   "cell_type": "code",
   "execution_count": 15,
   "metadata": {
    "collapsed": false
   },
   "outputs": [
    {
     "name": "stdout",
     "output_type": "stream",
     "text": [
      "[ 1.   0.3]\n",
      "[[ 0.70710678 -0.37139068]\n",
      " [ 0.70710678  0.92847669]]\n"
     ]
    }
   ],
   "source": [
    "w, v = eig(m)\n",
    "print w.real\n",
    "print v"
   ]
  },
  {
   "cell_type": "code",
   "execution_count": 11,
   "metadata": {
    "collapsed": false
   },
   "outputs": [
    {
     "data": {
      "text/plain": [
       "array([ 0.71428571,  0.28571429])"
      ]
     },
     "execution_count": 11,
     "metadata": {},
     "output_type": "execute_result"
    }
   ],
   "source": [
    "v.dot(inv(v).dot(u0))"
   ]
  },
  {
   "cell_type": "markdown",
   "metadata": {},
   "source": [
    "---"
   ]
  },
  {
   "cell_type": "code",
   "execution_count": 24,
   "metadata": {
    "collapsed": false
   },
   "outputs": [
    {
     "name": "stdout",
     "output_type": "stream",
     "text": [
      "[[ 0.94116975  0.00146505  0.05736519]\n",
      " [ 0.00155068  0.9961767   0.00227263]\n",
      " [ 0.05732609  0.00214567  0.94052823]]\n"
     ]
    }
   ],
   "source": [
    "m = np.random.randn(9).reshape(3,3)\n",
    "L = k(m, .7)\n",
    "D = diag(L)\n",
    "m = inv(D).dot(L)\n",
    "print m"
   ]
  },
  {
   "cell_type": "code",
   "execution_count": 31,
   "metadata": {
    "collapsed": false
   },
   "outputs": [
    {
     "name": "stdout",
     "output_type": "stream",
     "text": [
      "[ 0.88350021  1.          0.99437447]\n",
      "[[ 0.70516737 -0.57735027  0.39646056]\n",
      " [ 0.00459603 -0.57735027 -0.83158942]\n",
      " [-0.709026   -0.57735027  0.38894481]]\n"
     ]
    }
   ],
   "source": [
    "w, v = eig(m)\n",
    "w = w.real\n",
    "print w\n",
    "print v"
   ]
  },
  {
   "cell_type": "code",
   "execution_count": 29,
   "metadata": {
    "collapsed": false
   },
   "outputs": [],
   "source": [
    "p0 = np.eye(len(m))"
   ]
  },
  {
   "cell_type": "markdown",
   "metadata": {},
   "source": [
    "*Building a diagonal eigenvalue matrix*"
   ]
  },
  {
   "cell_type": "code",
   "execution_count": 33,
   "metadata": {
    "collapsed": false
   },
   "outputs": [],
   "source": [
    "lmbda = np.zeros((3,3))\n",
    "np.fill_diagonal(lmbda, w)"
   ]
  },
  {
   "cell_type": "markdown",
   "metadata": {},
   "source": [
    "$p_1 = p_0A$"
   ]
  },
  {
   "cell_type": "code",
   "execution_count": 36,
   "metadata": {
    "collapsed": false
   },
   "outputs": [
    {
     "data": {
      "text/plain": [
       "array([[ 0.94116975,  0.00146505,  0.05736519],\n",
       "       [ 0.00155068,  0.9961767 ,  0.00227263],\n",
       "       [ 0.05732609,  0.00214567,  0.94052823]])"
      ]
     },
     "execution_count": 36,
     "metadata": {},
     "output_type": "execute_result"
    }
   ],
   "source": [
    "p1 = p0.dot(m)\n",
    "p1"
   ]
  },
  {
   "cell_type": "markdown",
   "metadata": {},
   "source": [
    "$p1 = \\mathbf{V} \\Lambda \\mathbf{V}^{-1} p_0$"
   ]
  },
  {
   "cell_type": "code",
   "execution_count": 38,
   "metadata": {
    "collapsed": false
   },
   "outputs": [
    {
     "data": {
      "text/plain": [
       "array([[ 0.94116975,  0.00146505,  0.05736519],\n",
       "       [ 0.00155068,  0.9961767 ,  0.00227263],\n",
       "       [ 0.05732609,  0.00214567,  0.94052823]])"
      ]
     },
     "execution_count": 38,
     "metadata": {},
     "output_type": "execute_result"
    }
   ],
   "source": [
    "v.dot(lmbda).dot(inv(v)).dot(p0)"
   ]
  },
  {
   "cell_type": "markdown",
   "metadata": {},
   "source": [
    "$p2 = p1A$"
   ]
  },
  {
   "cell_type": "code",
   "execution_count": 39,
   "metadata": {
    "collapsed": false
   },
   "outputs": [
    {
     "data": {
      "text/plain": [
       "array([[ 0.8890913 ,  0.0029614 ,  0.1079473 ],\n",
       "       [ 0.00313448,  0.99237516,  0.00449036],\n",
       "       [ 0.10787372,  0.00423952,  0.88788676]])"
      ]
     },
     "execution_count": 39,
     "metadata": {},
     "output_type": "execute_result"
    }
   ],
   "source": [
    "p2 = p1.dot(m)\n",
    "p2"
   ]
  },
  {
   "cell_type": "markdown",
   "metadata": {},
   "source": [
    "$p2 = \\mathbf{V} \\Lambda^2 \\mathbf{V}^{-1} p_0$"
   ]
  },
  {
   "cell_type": "code",
   "execution_count": 40,
   "metadata": {
    "collapsed": false
   },
   "outputs": [
    {
     "data": {
      "text/plain": [
       "array([[ 0.8890913 ,  0.0029614 ,  0.1079473 ],\n",
       "       [ 0.00313448,  0.99237516,  0.00449036],\n",
       "       [ 0.10787372,  0.00423952,  0.88788676]])"
      ]
     },
     "execution_count": 40,
     "metadata": {},
     "output_type": "execute_result"
    }
   ],
   "source": [
    "v.dot(lmbda ** 2).dot(inv(v)).dot(p0)"
   ]
  }
 ],
 "metadata": {
  "kernelspec": {
   "display_name": "Python [conda env:Python 2]",
   "language": "python",
   "name": "conda-env-Python 2-py"
  },
  "language_info": {
   "codemirror_mode": {
    "name": "ipython",
    "version": 2
   },
   "file_extension": ".py",
   "mimetype": "text/x-python",
   "name": "python",
   "nbconvert_exporter": "python",
   "pygments_lexer": "ipython2",
   "version": "2.7.12"
  }
 },
 "nbformat": 4,
 "nbformat_minor": 2
}
