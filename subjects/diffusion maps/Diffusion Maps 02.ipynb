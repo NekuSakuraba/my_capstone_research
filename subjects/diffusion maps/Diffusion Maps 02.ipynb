{
 "cells": [
  {
   "cell_type": "code",
   "execution_count": 1,
   "metadata": {
    "collapsed": true
   },
   "outputs": [],
   "source": [
    "from numpy.linalg import inv\n",
    "import numpy as np\n",
    "from scipy.linalg import eig\n",
    "\n",
    "from sklearn.datasets import make_blobs\n",
    "from sklearn.metrics import pairwise_distances\n",
    "\n",
    "from diffmaps_util import k, diag"
   ]
  },
  {
   "cell_type": "markdown",
   "metadata": {},
   "source": [
    "Diffusion Distance <br />\n",
    "A distance function between any two points based on the random walk on the graph [1].\n",
    "\n",
    "\n",
    "Diffusion map <br />\n",
    "Low dimensional description of the data by the first few eigenvectors [1].\n"
   ]
  },
  {
   "cell_type": "code",
   "execution_count": 2,
   "metadata": {
    "collapsed": true
   },
   "outputs": [],
   "source": [
    "n = 3"
   ]
  },
  {
   "cell_type": "code",
   "execution_count": 3,
   "metadata": {
    "collapsed": false
   },
   "outputs": [
    {
     "data": {
      "text/plain": [
       "array([[ 1.0434619 ,  0.89997857],\n",
       "       [ 1.0724103 ,  1.10392303],\n",
       "       [ 1.1065059 ,  0.97652068]])"
      ]
     },
     "execution_count": 3,
     "metadata": {},
     "output_type": "execute_result"
    }
   ],
   "source": [
    "X, y = make_blobs(n_samples=n, cluster_std=.1, centers=[[1,1]])\n",
    "X"
   ]
  },
  {
   "cell_type": "markdown",
   "metadata": {},
   "source": [
    "Define a pairwise similarity matrix between points..."
   ]
  },
  {
   "cell_type": "code",
   "execution_count": 4,
   "metadata": {
    "collapsed": true
   },
   "outputs": [],
   "source": [
    "L = k(X, .9)"
   ]
  },
  {
   "cell_type": "markdown",
   "metadata": {},
   "source": [
    "and a diagonal normalization matrix $D_{i,i} = \\sum_j L_{i,j}$"
   ]
  },
  {
   "cell_type": "code",
   "execution_count": 5,
   "metadata": {
    "collapsed": true
   },
   "outputs": [],
   "source": [
    "D = diag(L)"
   ]
  },
  {
   "cell_type": "markdown",
   "metadata": {},
   "source": [
    "Matrix M <br />\n",
    "$M = D^{-1}L$"
   ]
  },
  {
   "cell_type": "code",
   "execution_count": 6,
   "metadata": {
    "collapsed": true
   },
   "outputs": [],
   "source": [
    "M = inv(D).dot(L)"
   ]
  },
  {
   "cell_type": "markdown",
   "metadata": {},
   "source": [
    "The matrix M is adjoint to a symmetric matrix <br />\n",
    "$M_s = D^{1/2}MD^{-1/2}$\n",
    "\n",
    "M and M<sub>s</sub> share the same eigenvalues. <br />\n",
    "Since M<sub>s</sub> is symmetric, it is diagonalizable and has a set of _n_ real eigenvalues {$\\lambda_{j=0}^{n-1}$} whose corresponding eigenvectors form an orthonormal basis of $\\mathbf{R}^n$. <br />\n",
    "The left and right eigenvectors of M, denoted $\\phi_j$ and $\\psi_j$ are related to those of M<sub>s</sub>.\n",
    "\n",
    "$$ \\phi_j = \\mathbf{v}_j D^{1/2}, \\psi_j = \\mathbf{v}_j D^{-1/2} $$"
   ]
  },
  {
   "cell_type": "code",
   "execution_count": 7,
   "metadata": {
    "collapsed": true
   },
   "outputs": [],
   "source": [
    "Ms = diag(D, .5).dot(M).dot(diag(D,-.5))"
   ]
  },
  {
   "cell_type": "markdown",
   "metadata": {},
   "source": [
    "---\n",
    "Now we utilize the fact that by constrution M is a stochastic matrix"
   ]
  },
  {
   "cell_type": "code",
   "execution_count": 8,
   "metadata": {
    "collapsed": true
   },
   "outputs": [],
   "source": [
    "p0 = np.eye(n)"
   ]
  },
  {
   "cell_type": "markdown",
   "metadata": {},
   "source": [
    "*The stationary probability distribution $\\Phi_0$ *"
   ]
  },
  {
   "cell_type": "code",
   "execution_count": 10,
   "metadata": {
    "collapsed": false
   },
   "outputs": [
    {
     "name": "stdout",
     "output_type": "stream",
     "text": [
      "[[ 0.33309641  0.33309468  0.33380891]\n",
      " [ 0.33309641  0.33309468  0.33380891]\n",
      " [ 0.33309641  0.33309468  0.33380891]]\n"
     ]
    }
   ],
   "source": [
    "e = p0\n",
    "for i in range(1000):\n",
    "    e = e.dot(M)\n",
    "print e"
   ]
  },
  {
   "cell_type": "code",
   "execution_count": 20,
   "metadata": {
    "collapsed": false
   },
   "outputs": [
    {
     "data": {
      "text/plain": [
       "array([[ 0.33977989,  0.3241324 ,  0.33608772],\n",
       "       [ 0.32504628,  0.34073789,  0.33421584],\n",
       "       [ 0.33304245,  0.33025638,  0.33670117]])"
      ]
     },
     "execution_count": 20,
     "metadata": {},
     "output_type": "execute_result"
    }
   ],
   "source": [
    "p1 = p0.dot(M)\n",
    "p1"
   ]
  },
  {
   "cell_type": "code",
   "execution_count": 15,
   "metadata": {
    "collapsed": false
   },
   "outputs": [
    {
     "name": "stdout",
     "output_type": "stream",
     "text": [
      "[ 1.          0.01585329  0.00136565]\n",
      "[[-0.57735027 -0.65564879 -0.48804677]\n",
      " [-0.57735027  0.7495651  -0.32879168]\n",
      " [-0.57735027 -0.090977    0.80852111]]\n"
     ]
    }
   ],
   "source": [
    "w, v = eig(M)\n",
    "w = w.real\n",
    "print w\n",
    "print v"
   ]
  },
  {
   "cell_type": "code",
   "execution_count": 16,
   "metadata": {
    "collapsed": false,
    "scrolled": true
   },
   "outputs": [
    {
     "name": "stdout",
     "output_type": "stream",
     "text": [
      "[ 1.          0.01585329  0.00136565]\n",
      "[[-0.57735027 -0.65564879 -0.48804677]\n",
      " [-0.57735027  0.7495651  -0.32879168]\n",
      " [-0.57735027 -0.090977    0.80852111]]\n"
     ]
    }
   ],
   "source": [
    "# sorting the eigenvalues and vectors\n",
    "temp = {_:(w[_], v[:,_]) for _ in range(len(w))}\n",
    "w = []\n",
    "v = []\n",
    "for _ in sorted(temp.items(), key=lambda x:x[1], reverse=True):\n",
    "    w.append(_[1][0])\n",
    "    v.append(_[1][1])\n",
    "w = np.array(w)\n",
    "v = np.array(v).T\n",
    "print w\n",
    "print v"
   ]
  },
  {
   "cell_type": "code",
   "execution_count": 17,
   "metadata": {
    "collapsed": false
   },
   "outputs": [
    {
     "name": "stdout",
     "output_type": "stream",
     "text": [
      "[[ 1.          1.13561702  0.8453218 ]\n",
      " [ 1.         -1.29828484  0.5694839 ]\n",
      " [ 1.          0.15757678 -1.40039963]]\n"
     ]
    }
   ],
   "source": [
    "psi = v / v[:,0]\n",
    "print psi"
   ]
  },
  {
   "cell_type": "markdown",
   "metadata": {},
   "source": [
    "## Diffusion Map\n",
    "$$ \\Psi_t(x) = (\\lambda_1^t\\psi(x), \\lambda_2^t\\psi(x), ..., \\lambda_k^t\\psi(x)) $$"
   ]
  },
  {
   "cell_type": "code",
   "execution_count": 25,
   "metadata": {
    "collapsed": false
   },
   "outputs": [
    {
     "data": {
      "text/plain": [
       "array([[ 0.01800327,  0.00115441],\n",
       "       [-0.02058209,  0.00077771],\n",
       "       [ 0.00249811, -0.00191245]])"
      ]
     },
     "execution_count": 25,
     "metadata": {},
     "output_type": "execute_result"
    }
   ],
   "source": [
    "diffmap = (w.reshape(-1,1) * psi.T).T[:,1:]\n",
    "diffmap"
   ]
  },
  {
   "cell_type": "markdown",
   "metadata": {},
   "source": [
    "## Diffusion Distance\n",
    "Defined by Euclidean distance in the diffusion map\n",
    "$$ D_t^2(x_0, x_1) = ||\\Psi_t(x_0) - \\Psi_t(x_1)||^2 $$"
   ]
  },
  {
   "cell_type": "code",
   "execution_count": 28,
   "metadata": {
    "collapsed": false
   },
   "outputs": [
    {
     "data": {
      "text/plain": [
       "array([[ 0.        ,  0.00148897,  0.00024982],\n",
       "       [ 0.00148897,  0.        ,  0.00053993],\n",
       "       [ 0.00024982,  0.00053993,  0.        ]])"
      ]
     },
     "execution_count": 28,
     "metadata": {},
     "output_type": "execute_result"
    }
   ],
   "source": [
    "dt0 = pairwise_distances(diffmap)**2\n",
    "dt0"
   ]
  },
  {
   "cell_type": "markdown",
   "metadata": {},
   "source": [
    "## Diffusion Distance [2]\n",
    "Defined by probability distribution on time _t_.\n",
    "$$\n",
    "D_t^2(x_0, x_1) = ||p(t, y|x_0) - p(t, y|x_1)||_w^2 \\\\\n",
    "= \\sum_y (p(t, y|x_0) - p(t, y|x_1))^2 w(y)\n",
    "$$"
   ]
  },
  {
   "cell_type": "code",
   "execution_count": 27,
   "metadata": {
    "collapsed": false
   },
   "outputs": [
    {
     "data": {
      "text/plain": [
       "array([[ 0.        ,  0.00148898,  0.00024982],\n",
       "       [ 0.00148898,  0.        ,  0.00053993],\n",
       "       [ 0.00024982,  0.00053993,  0.        ]])"
      ]
     },
     "execution_count": 27,
     "metadata": {},
     "output_type": "execute_result"
    }
   ],
   "source": [
    "dt = []\n",
    "for i in range(n):\n",
    "    _ = []\n",
    "    for j in range(n):\n",
    "        _.append(sum((p1[i]-p1[j])**2 / v[:,0]**2))\n",
    "    dt.append(_)\n",
    "dt = np.array(dt)\n",
    "dt"
   ]
  },
  {
   "cell_type": "code",
   "execution_count": 124,
   "metadata": {
    "collapsed": false,
    "scrolled": true
   },
   "outputs": [
    {
     "data": {
      "text/plain": [
       "array([[  0.00000000e+00,  -6.69401358e-08,  -1.07584647e-08],\n",
       "       [ -6.69401358e-08,   0.00000000e+00,  -2.21797167e-08],\n",
       "       [ -1.07584647e-08,  -2.21797167e-08,   0.00000000e+00]])"
      ]
     },
     "execution_count": 124,
     "metadata": {},
     "output_type": "execute_result"
    }
   ],
   "source": [
    "(dt0 - dt)"
   ]
  },
  {
   "cell_type": "code",
   "execution_count": 147,
   "metadata": {
    "collapsed": false
   },
   "outputs": [
    {
     "name": "stdout",
     "output_type": "stream",
     "text": [
      "[[ 0.34212144  0.32993451  0.32794404]\n",
      " [ 0.32540252  0.33742206  0.33717542]\n",
      " [ 0.3240756   0.33783864  0.33808576]]\n"
     ]
    },
    {
     "data": {
      "text/plain": [
       "array([ 1.,  1.,  1.])"
      ]
     },
     "execution_count": 147,
     "metadata": {},
     "output_type": "execute_result"
    }
   ],
   "source": [
    "print M\n",
    "M.sum(axis=1)"
   ]
  },
  {
   "cell_type": "code",
   "execution_count": 153,
   "metadata": {
    "collapsed": false
   },
   "outputs": [
    {
     "name": "stdout",
     "output_type": "stream",
     "text": [
      "[  1.00000000e+00   1.74591160e-02   1.70144248e-04]\n",
      "[[ 0.57735027  0.81811916  0.05509647]\n",
      " [ 0.57735027 -0.35678015 -0.73203841]\n",
      " [ 0.57735027 -0.45098666  0.67903177]]\n"
     ]
    }
   ],
   "source": [
    "w, v = eig(M)\n",
    "w = w.real\n",
    "print w\n",
    "print v"
   ]
  },
  {
   "cell_type": "code",
   "execution_count": 189,
   "metadata": {
    "collapsed": false
   },
   "outputs": [
    {
     "data": {
      "text/plain": [
       "array([[ 0.34501957,  0.        ,  0.        ],\n",
       "       [ 0.        ,  0.33564692,  0.        ],\n",
       "       [ 0.        ,  0.        ,  0.33696278]])"
      ]
     },
     "execution_count": 189,
     "metadata": {},
     "output_type": "execute_result"
    }
   ],
   "source": [
    "p0*w[0]*v[:,0]**2 + p0*w[1]*v[:,1]**2 + p0*w[2]*v[:,2]**2"
   ]
  }
 ],
 "metadata": {
  "anaconda-cloud": {},
  "kernelspec": {
   "display_name": "Python [conda env:Python 2]",
   "language": "python",
   "name": "conda-env-Python 2-py"
  },
  "language_info": {
   "codemirror_mode": {
    "name": "ipython",
    "version": 2
   },
   "file_extension": ".py",
   "mimetype": "text/x-python",
   "name": "python",
   "nbconvert_exporter": "python",
   "pygments_lexer": "ipython2",
   "version": "2.7.12"
  }
 },
 "nbformat": 4,
 "nbformat_minor": 1
}
