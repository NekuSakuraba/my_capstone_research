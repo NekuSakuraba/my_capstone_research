{
 "cells": [
  {
   "cell_type": "code",
   "execution_count": 1,
   "metadata": {
    "collapsed": false
   },
   "outputs": [],
   "source": [
    "from numpy.linalg import inv\n",
    "import numpy as np\n",
    "import matplotlib.pyplot as plt\n",
    "from sklearn.datasets import make_blobs\n",
    "from scipy.linalg import eig\n",
    "from sklearn.metrics import pairwise_distances\n",
    "from diffmaps_util import k, diag"
   ]
  },
  {
   "cell_type": "code",
   "execution_count": 2,
   "metadata": {
    "collapsed": false
   },
   "outputs": [
    {
     "data": {
      "text/plain": [
       "array([[ 1. ,  1.1],\n",
       "       [ 1. ,  1.2],\n",
       "       [ 1.2,  1.3]])"
      ]
     },
     "execution_count": 2,
     "metadata": {},
     "output_type": "execute_result"
    }
   ],
   "source": [
    "X = np.array([1.0, 1.1, 1.0, 1.2, 1.2, 1.3]).reshape(3,2)\n",
    "X"
   ]
  },
  {
   "cell_type": "code",
   "execution_count": 5,
   "metadata": {
    "collapsed": false
   },
   "outputs": [
    {
     "data": {
      "text/plain": [
       "array([[ 1.05250045,  1.10949366],\n",
       "       [ 1.09966087,  1.10298056],\n",
       "       [ 0.86643734,  0.85708148]])"
      ]
     },
     "execution_count": 5,
     "metadata": {},
     "output_type": "execute_result"
    }
   ],
   "source": [
    "X, y = make_blobs(n_samples=3, cluster_std=.1, centers=[[1,1]])\n",
    "X"
   ]
  },
  {
   "cell_type": "code",
   "execution_count": 6,
   "metadata": {
    "collapsed": false
   },
   "outputs": [
    {
     "name": "stdout",
     "output_type": "stream",
     "text": [
      "D\n",
      " [[ 2.86571411  0.          0.        ]\n",
      " [ 0.          2.84543714  0.        ]\n",
      " [ 0.          0.          2.71761657]]\n",
      "M\n",
      " [[ 0.34895316  0.34782512  0.30322172]\n",
      " [ 0.35030376  0.35143985  0.29825639]\n",
      " [ 0.3197459   0.3122846   0.3679695 ]]\n",
      "Ms\n",
      " [[ 0.34895316  0.34906224  0.31137422]\n",
      " [ 0.34906224  0.35143985  0.3051899 ]\n",
      " [ 0.31137422  0.3051899   0.3679695 ]]\n"
     ]
    }
   ],
   "source": [
    "L = k(X, .7)\n",
    "D = diag(L)\n",
    "M = inv(D).dot(L)\n",
    "Ms = diag(D, .5).dot(M).dot(diag(D,-.5))\n",
    "\n",
    "print 'D\\n %s' % D\n",
    "print 'M\\n %s' % M\n",
    "print 'Ms\\n %s' % Ms"
   ]
  },
  {
   "cell_type": "code",
   "execution_count": 7,
   "metadata": {
    "collapsed": true
   },
   "outputs": [],
   "source": [
    "p0 = np.array([1,0,0])"
   ]
  },
  {
   "cell_type": "code",
   "execution_count": 8,
   "metadata": {
    "collapsed": false
   },
   "outputs": [
    {
     "name": "stdout",
     "output_type": "stream",
     "text": [
      "[ 0.33999206  0.33758637  0.32242157] 1.0\n"
     ]
    }
   ],
   "source": [
    "e = p0\n",
    "for i in range(100):\n",
    "    e = e.dot(M)\n",
    "print e, sum(e)"
   ]
  },
  {
   "cell_type": "markdown",
   "metadata": {},
   "source": [
    "# Markov chain stationary distribution\n",
    "$\n",
    "\\pi(y) = \\frac{d(y)}{\\sum_{z \\in X} d(z)}\n",
    "$"
   ]
  },
  {
   "cell_type": "code",
   "execution_count": 9,
   "metadata": {
    "collapsed": false
   },
   "outputs": [
    {
     "data": {
      "text/plain": [
       "array([ 0.33999206,  0.33758637,  0.32242157])"
      ]
     },
     "execution_count": 9,
     "metadata": {},
     "output_type": "execute_result"
    }
   ],
   "source": [
    "d = np.diag(D/ np.diag(D).sum())\n",
    "d"
   ]
  },
  {
   "cell_type": "markdown",
   "metadata": {},
   "source": [
    "The chain is reversible following the detailed balanced condition\n",
    "\n",
    "$\n",
    "\\pi(x) p(x,y) = \\pi(y) p(y,x)\n",
    "$"
   ]
  },
  {
   "cell_type": "code",
   "execution_count": 10,
   "metadata": {
    "collapsed": false
   },
   "outputs": [
    {
     "ename": "NameError",
     "evalue": "name 'p' is not defined",
     "output_type": "error",
     "traceback": [
      "\u001b[0;31m---------------------------------------------------------------------------\u001b[0m",
      "\u001b[0;31mNameError\u001b[0m                                 Traceback (most recent call last)",
      "\u001b[0;32m<ipython-input-10-c4c7a464d479>\u001b[0m in \u001b[0;36m<module>\u001b[0;34m()\u001b[0m\n\u001b[0;32m----> 1\u001b[0;31m \u001b[1;32mprint\u001b[0m \u001b[0md\u001b[0m\u001b[1;33m[\u001b[0m\u001b[1;36m0\u001b[0m\u001b[1;33m]\u001b[0m \u001b[1;33m*\u001b[0m \u001b[0mp\u001b[0m\u001b[1;33m[\u001b[0m\u001b[1;36m0\u001b[0m\u001b[1;33m,\u001b[0m\u001b[1;36m1\u001b[0m\u001b[1;33m]\u001b[0m\u001b[1;33m\u001b[0m\u001b[0m\n\u001b[0m\u001b[1;32m      2\u001b[0m \u001b[1;32mprint\u001b[0m \u001b[0md\u001b[0m\u001b[1;33m[\u001b[0m\u001b[1;36m1\u001b[0m\u001b[1;33m]\u001b[0m \u001b[1;33m*\u001b[0m \u001b[0mp\u001b[0m\u001b[1;33m[\u001b[0m\u001b[1;36m1\u001b[0m\u001b[1;33m,\u001b[0m\u001b[1;36m0\u001b[0m\u001b[1;33m]\u001b[0m\u001b[1;33m\u001b[0m\u001b[0m\n",
      "\u001b[0;31mNameError\u001b[0m: name 'p' is not defined"
     ]
    }
   ],
   "source": [
    "print d[0] * p[0,1]\n",
    "print d[1] * p[1,0]"
   ]
  },
  {
   "cell_type": "markdown",
   "metadata": {},
   "source": [
    "---"
   ]
  },
  {
   "cell_type": "code",
   "execution_count": 11,
   "metadata": {
    "collapsed": false
   },
   "outputs": [
    {
     "name": "stdout",
     "output_type": "stream",
     "text": [
      "[ 0.34895316  0.34782512  0.30322172] 1.0\n"
     ]
    }
   ],
   "source": [
    "e = p0\n",
    "for i in range(1):\n",
    "    e = e.dot(M)\n",
    "print e, sum(e)"
   ]
  },
  {
   "cell_type": "code",
   "execution_count": 12,
   "metadata": {
    "collapsed": false
   },
   "outputs": [
    {
     "name": "stdout",
     "output_type": "stream",
     "text": [
      "phi\n",
      " [[-0.33999206 -0.42458984 -0.20155027]\n",
      " [-0.33878708  0.39537503 -0.25352945]\n",
      " [-0.33109028  0.03143923  0.46639241]]\n",
      "psi\n",
      " [[-1.         -1.25772211 -0.62511409]\n",
      " [-0.99645586  1.17118184 -0.78632907]\n",
      " [-0.97381769  0.09312944  1.44652979]]\n"
     ]
    }
   ],
   "source": [
    "w, v = eig(Ms)\n",
    "w = w.real\n",
    "\n",
    "print 'phi\\n %s' % (v * (d ** .5))\n",
    "print 'psi\\n %s' % (v * (d ** -.5))"
   ]
  },
  {
   "cell_type": "code",
   "execution_count": 13,
   "metadata": {
    "collapsed": false
   },
   "outputs": [
    {
     "name": "stdout",
     "output_type": "stream",
     "text": [
      "[  1.00000000e+00   8.52845667e-04   6.75096615e-02]\n",
      "[[-0.58308838 -0.73076401 -0.35495339]\n",
      " [-0.58102183  0.68048222 -0.44649477]\n",
      " [-0.56782178  0.05411024  0.82137112]]\n"
     ]
    }
   ],
   "source": [
    "w, v = eig(Ms)\n",
    "w = w.real\n",
    "print w\n",
    "print v"
   ]
  },
  {
   "cell_type": "code",
   "execution_count": 16,
   "metadata": {
    "collapsed": false
   },
   "outputs": [
    {
     "data": {
      "text/plain": [
       "array([[-0.58308838, -0.58102183, -0.56782178],\n",
       "       [-0.73076401,  0.68048222,  0.05411024],\n",
       "       [-0.35495339, -0.44649477,  0.82137112]])"
      ]
     },
     "execution_count": 16,
     "metadata": {},
     "output_type": "execute_result"
    }
   ],
   "source": [
    "c = inv(v).dot(np.eye(3))\n",
    "#c = inv(v).dot(np.array([1,0,0]))\n",
    "c"
   ]
  },
  {
   "cell_type": "code",
   "execution_count": 17,
   "metadata": {
    "collapsed": false
   },
   "outputs": [
    {
     "data": {
      "text/plain": [
       "array([-0.58308838, -0.73076401, -0.35495339])"
      ]
     },
     "execution_count": 17,
     "metadata": {},
     "output_type": "execute_result"
    }
   ],
   "source": [
    "c.dot(p0)"
   ]
  },
  {
   "cell_type": "code",
   "execution_count": 18,
   "metadata": {
    "collapsed": false
   },
   "outputs": [
    {
     "data": {
      "text/plain": [
       "array([ 0.34895316,  0.34782512,  0.30322172])"
      ]
     },
     "execution_count": 18,
     "metadata": {},
     "output_type": "execute_result"
    }
   ],
   "source": [
    "e"
   ]
  },
  {
   "cell_type": "code",
   "execution_count": 19,
   "metadata": {
    "collapsed": false
   },
   "outputs": [
    {
     "data": {
      "text/plain": [
       "array([ 0.34895316,  0.35143985,  0.3679695 ])"
      ]
     },
     "execution_count": 19,
     "metadata": {},
     "output_type": "execute_result"
    }
   ],
   "source": [
    "c[0]*v[:,0] + c[2]*w[2]*v[:,2] + c[1]*w[1]*v[:,1]"
   ]
  },
  {
   "cell_type": "markdown",
   "metadata": {},
   "source": [
    "$\n",
    "p(x,y) = \\frac{k(x,y)}{d(x)}\n",
    "$"
   ]
  },
  {
   "cell_type": "code",
   "execution_count": 20,
   "metadata": {
    "collapsed": false
   },
   "outputs": [
    {
     "name": "stdout",
     "output_type": "stream",
     "text": [
      "[[ 2.94124518  2.93173714  2.5557855 ]\n",
      " [ 2.9526291   2.96220489  2.51393383]\n",
      " [ 2.695064    2.63217438  3.10152945]]\n"
     ]
    }
   ],
   "source": [
    "p = []\n",
    "for x in range(3):\n",
    "    _ = []\n",
    "    for y in range(3):\n",
    "        _.append(L[x,y]/d[x])\n",
    "    p.append(_)\n",
    "p = np.array(p)\n",
    "print p"
   ]
  },
  {
   "cell_type": "markdown",
   "metadata": {},
   "source": [
    "$\n",
    "a(x,y) = \\frac{k(x,y)}{\\sqrt{\\pi(x)} \\sqrt{\\pi(y)}}\n",
    "$"
   ]
  },
  {
   "cell_type": "code",
   "execution_count": 21,
   "metadata": {
    "collapsed": false
   },
   "outputs": [
    {
     "name": "stdout",
     "output_type": "stream",
     "text": [
      "[[ 2.94124518  2.94216458  2.624501  ]\n",
      " [ 2.94216458  2.96220489  2.57237482]\n",
      " [ 2.624501    2.57237482  3.10152945]]\n"
     ]
    }
   ],
   "source": [
    "a = []\n",
    "for i in range(3):\n",
    "    b = []\n",
    "    for j in range(3):\n",
    "        b.append(L[i,j]/(np.sqrt(d[i])*np.sqrt(d[j])))\n",
    "    a.append(b)\n",
    "a = np.array(a)\n",
    "print a"
   ]
  },
  {
   "cell_type": "markdown",
   "metadata": {},
   "source": [
    "$\n",
    "a(x,y) = \\frac{\\sqrt{\\pi(x)}}{\\sqrt{\\pi(y)}} p(x, y)\n",
    "$"
   ]
  },
  {
   "cell_type": "code",
   "execution_count": 22,
   "metadata": {
    "collapsed": false
   },
   "outputs": [
    {
     "name": "stdout",
     "output_type": "stream",
     "text": [
      "[[ 2.94124518  2.93648731  2.74174977]\n",
      " [ 2.94785282  2.96220489  2.69249036]\n",
      " [ 2.51226628  2.4576178   3.10152945]]\n"
     ]
    }
   ],
   "source": [
    "a = []\n",
    "for x in range(3):\n",
    "    _ = []\n",
    "    for y in range(3):\n",
    "        _.append(np.sqrt(e[x])/np.sqrt(e[y])*p[x,y])\n",
    "    a.append(_)\n",
    "a = np.array(a)\n",
    "print a"
   ]
  },
  {
   "cell_type": "markdown",
   "metadata": {},
   "source": [
    "$\n",
    "\\phi_j = \\mathbf{v}_j D^{1/2}\n",
    "$"
   ]
  },
  {
   "cell_type": "code",
   "execution_count": 23,
   "metadata": {
    "collapsed": false
   },
   "outputs": [
    {
     "name": "stdout",
     "output_type": "stream",
     "text": [
      "[[-0.33999206 -0.42458984 -0.20155027]\n",
      " [-0.33878708  0.39537503 -0.25352945]\n",
      " [-0.33109028  0.03143923  0.46639241]]\n"
     ]
    }
   ],
   "source": [
    "phi = v * (d ** .5)\n",
    "print phi"
   ]
  },
  {
   "cell_type": "markdown",
   "metadata": {},
   "source": [
    "$\n",
    "\\phi_l(x) = \\Phi_l(x) \\times \\pi(x)\n",
    "$"
   ]
  },
  {
   "cell_type": "code",
   "execution_count": 24,
   "metadata": {
    "collapsed": false
   },
   "outputs": [
    {
     "name": "stdout",
     "output_type": "stream",
     "text": [
      "[[ 0.33999206  0.42458984  0.20155027]\n",
      " [ 0.33878708 -0.39537503  0.25352945]\n",
      " [ 0.33109028 -0.03143923 -0.46639241]]\n"
     ]
    }
   ],
   "source": [
    "print v * v[:,0]"
   ]
  },
  {
   "cell_type": "markdown",
   "metadata": {},
   "source": [
    "$\n",
    "\\psi_j = \\mathbf{v}_j D^{-1/2} \n",
    "$"
   ]
  },
  {
   "cell_type": "code",
   "execution_count": 25,
   "metadata": {
    "collapsed": false
   },
   "outputs": [
    {
     "name": "stdout",
     "output_type": "stream",
     "text": [
      "[[-1.         -1.25772211 -0.62511409]\n",
      " [-0.99645586  1.17118184 -0.78632907]\n",
      " [-0.97381769  0.09312944  1.44652979]]\n"
     ]
    }
   ],
   "source": [
    "psi = v * (d**-.5)\n",
    "print psi"
   ]
  },
  {
   "cell_type": "markdown",
   "metadata": {},
   "source": [
    "$\n",
    "\\psi_l(x) = \\Phi_l(x) / \\pi(x)\n",
    "$"
   ]
  },
  {
   "cell_type": "code",
   "execution_count": 26,
   "metadata": {
    "collapsed": false
   },
   "outputs": [
    {
     "name": "stdout",
     "output_type": "stream",
     "text": [
      "[[ 1.          1.25772211  0.62511409]\n",
      " [ 0.99645586 -1.17118184  0.78632907]\n",
      " [ 0.97381769 -0.09312944 -1.44652979]]\n"
     ]
    }
   ],
   "source": [
    "psi = v / v[:,0]\n",
    "print psi"
   ]
  },
  {
   "cell_type": "markdown",
   "metadata": {},
   "source": [
    "$\n",
    "a(x,y) = \\sum_{l \\geq 0} \\lambda_l \\phi_l(x) \\phi_l(y)\n",
    "$"
   ]
  },
  {
   "cell_type": "code",
   "execution_count": 27,
   "metadata": {
    "collapsed": false
   },
   "outputs": [
    {
     "data": {
      "text/plain": [
       "array([[  1.15594599e-01,   1.14776685e-01,   1.09620773e-01],\n",
       "       [  9.85843528e-05,   9.78867983e-05,   9.34896016e-05],\n",
       "       [  7.80375225e-03,   7.74853514e-03,   7.40046131e-03]])"
      ]
     },
     "execution_count": 27,
     "metadata": {},
     "output_type": "execute_result"
    }
   ],
   "source": [
    "a = []\n",
    "for _ in range(3):\n",
    "    a.append(w[_] * phi[:,0] * phi[:,0])\n",
    "a = np.array(a)\n",
    "a"
   ]
  },
  {
   "cell_type": "markdown",
   "metadata": {},
   "source": [
    "$\n",
    "p(t,y|x) = \\phi_0(y) + \\sum_{j \\geq 1} a_j(x) \\lambda_j^t \\phi_j(y)\n",
    "$"
   ]
  },
  {
   "cell_type": "code",
   "execution_count": 28,
   "metadata": {
    "collapsed": false
   },
   "outputs": [
    {
     "name": "stdout",
     "output_type": "stream",
     "text": [
      "[ 0.34895316  0.34906224  0.31137422]\n"
     ]
    }
   ],
   "source": [
    "e = p0\n",
    "for i in range(1):\n",
    "    e = e.dot(Ms)\n",
    "print e"
   ]
  },
  {
   "cell_type": "code",
   "execution_count": 29,
   "metadata": {
    "collapsed": false
   },
   "outputs": [
    {
     "name": "stdout",
     "output_type": "stream",
     "text": [
      "[[  3.39992057e-01   3.38787079e-01   3.31090280e-01]\n",
      " [  4.55433258e-04  -4.24096195e-04  -3.37230658e-05]\n",
      " [  8.50567128e-03   1.06992574e-02  -1.96823382e-02]]\n",
      "[ 0.34895316  0.34906224  0.31137422]\n"
     ]
    }
   ],
   "source": [
    "p = []\n",
    "for _ in range(0,3):\n",
    "    p.append(inv(v).dot(p0)[_] * w[_] * v[:,_])\n",
    "p = np.array(p)\n",
    "print p\n",
    "print p.sum(axis=0)"
   ]
  },
  {
   "cell_type": "markdown",
   "metadata": {},
   "source": [
    "# Diffusion map\n",
    "$\n",
    "\\Psi_t(x) = (\\lambda_1^t \\psi_1(x), \\lambda_2^t \\psi_2(x), ..., \\lambda_k^t \\psi_k(x), )\n",
    "$"
   ]
  },
  {
   "cell_type": "code",
   "execution_count": 30,
   "metadata": {
    "collapsed": false
   },
   "outputs": [
    {
     "data": {
      "text/plain": [
       "array([[  1.00000000e+00,   8.49823065e-04,   6.57421027e-02],\n",
       "       [  1.25772211e+00,  -9.98837355e-04,  -6.28713714e-03],\n",
       "       [  6.25114088e-01,   6.70617337e-04,  -9.76547363e-02]])"
      ]
     },
     "execution_count": 30,
     "metadata": {},
     "output_type": "execute_result"
    }
   ],
   "source": [
    "diffmap = w * psi.T\n",
    "diffmap"
   ]
  },
  {
   "cell_type": "markdown",
   "metadata": {},
   "source": [
    "_The diffusion distance is equal to Euclidean distance in the diffusion map space with all (n-1) eigenvectors._"
   ]
  },
  {
   "cell_type": "code",
   "execution_count": 32,
   "metadata": {
    "collapsed": false
   },
   "outputs": [
    {
     "data": {
      "text/plain": [
       "array([[ 0.        ,  0.07205296,  0.16339694],\n",
       "       [ 0.07205296,  0.        ,  0.09138285],\n",
       "       [ 0.16339694,  0.09138285,  0.        ]])"
      ]
     },
     "execution_count": 32,
     "metadata": {},
     "output_type": "execute_result"
    }
   ],
   "source": [
    "pairwise_distances(diffmap[:,1:])"
   ]
  },
  {
   "cell_type": "code",
   "execution_count": null,
   "metadata": {
    "collapsed": true
   },
   "outputs": [],
   "source": []
  }
 ],
 "metadata": {
  "anaconda-cloud": {},
  "kernelspec": {
   "display_name": "Python [conda env:Python 2]",
   "language": "python",
   "name": "conda-env-Python 2-py"
  },
  "language_info": {
   "codemirror_mode": {
    "name": "ipython",
    "version": 2
   },
   "file_extension": ".py",
   "mimetype": "text/x-python",
   "name": "python",
   "nbconvert_exporter": "python",
   "pygments_lexer": "ipython2",
   "version": "2.7.12"
  }
 },
 "nbformat": 4,
 "nbformat_minor": 2
}
