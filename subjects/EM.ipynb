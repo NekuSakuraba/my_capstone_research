{
 "cells": [
  {
   "cell_type": "code",
   "execution_count": 1,
   "metadata": {
    "collapsed": true
   },
   "outputs": [],
   "source": [
    "from numpy import pi, log\n",
    "from numpy.linalg import inv, det\n",
    "import numpy as np"
   ]
  },
  {
   "cell_type": "code",
   "execution_count": 2,
   "metadata": {
    "collapsed": true
   },
   "outputs": [],
   "source": [
    "v1 = np.array([ 8, 11, 16, 18,  6,  4, 20, 25, 9, 13])\n",
    "v2 = np.array([10, 14, 16, 15, 20,  4, 18, 22])"
   ]
  },
  {
   "cell_type": "markdown",
   "metadata": {},
   "source": [
    "$$\n",
    "\\hat{\\mu}_1 = \\sum_{j=1}^n w_{1,j}/n \\\\\n",
    "\\hat{\\sigma}_{1,1} = \\sum_{j=1}^n (w_{1,j} - \\hat{\\mu}_1)^2/n \\\\\n",
    "\\hat{\\mu}_2 = \\bar{w}_2 + \\hat{\\beta}(\\hat{\\mu}_1 - \\bar{w}_1) \\\\\n",
    "\\hat{\\sigma}_{2,2} = s_{2,2} + \\hat{\\beta}^2(\\hat{\\sigma}_{1,1} - s_{1,1}) \\\\\n",
    "\\hat{\\sigma}_{1,2} = \\hat{\\beta}\\hat{\\sigma}_{1,1} \\\\\n",
    "\\hat{\\beta} = s_{1,2}/s_{1,1}\n",
    "$$\n",
    "where\n",
    "\n",
    "$$\n",
    "\\bar{w}_i = \\sum_{j=1}^m w_{i,j}/m\n",
    "$$\n",
    "and\n",
    "\n",
    "$$\n",
    "s_{h,i} = \\sum_{j=1}^m (w_{h,j} - \\bar{y}_h)(w_{i,j} - \\bar{y}_i)/m\n",
    "$$"
   ]
  },
  {
   "cell_type": "code",
   "execution_count": 3,
   "metadata": {
    "collapsed": false
   },
   "outputs": [
    {
     "data": {
      "text/plain": [
       "13.0"
      ]
     },
     "execution_count": 3,
     "metadata": {},
     "output_type": "execute_result"
    }
   ],
   "source": [
    "v1.mean()"
   ]
  },
  {
   "cell_type": "code",
   "execution_count": 4,
   "metadata": {
    "collapsed": false
   },
   "outputs": [
    {
     "data": {
      "text/plain": [
       "40.20000000000001"
      ]
     },
     "execution_count": 4,
     "metadata": {},
     "output_type": "execute_result"
    }
   ],
   "source": [
    "sigma11 = v1.std()**2\n",
    "sigma11"
   ]
  },
  {
   "cell_type": "code",
   "execution_count": 5,
   "metadata": {
    "collapsed": false
   },
   "outputs": [
    {
     "data": {
      "text/plain": [
       "14.875"
      ]
     },
     "execution_count": 5,
     "metadata": {},
     "output_type": "execute_result"
    }
   ],
   "source": [
    "v2.mean()"
   ]
  },
  {
   "cell_type": "code",
   "execution_count": 6,
   "metadata": {
    "collapsed": false
   },
   "outputs": [
    {
     "name": "stdout",
     "output_type": "stream",
     "text": [
      "(1L, 2L)\n",
      "[[ 13.     14.875]]\n"
     ]
    }
   ],
   "source": [
    "mu = np.array([[v1.mean(), v2.mean()]])\n",
    "print mu.shape\n",
    "print mu"
   ]
  },
  {
   "cell_type": "code",
   "execution_count": 9,
   "metadata": {
    "collapsed": false
   },
   "outputs": [
    {
     "data": {
      "text/plain": [
       "40.199999999999996"
      ]
     },
     "execution_count": 9,
     "metadata": {},
     "output_type": "execute_result"
    }
   ],
   "source": [
    "s11 = 0\n",
    "for _ in range(len(v1)):\n",
    "    s11 += (v1[_] - v1.mean())*(v1[_] - v1.mean()) / len(v1)\n",
    "s11"
   ]
  },
  {
   "cell_type": "code",
   "execution_count": 10,
   "metadata": {
    "collapsed": false
   },
   "outputs": [
    {
     "data": {
      "text/plain": [
       "24.9375"
      ]
     },
     "execution_count": 10,
     "metadata": {},
     "output_type": "execute_result"
    }
   ],
   "source": [
    "s12 = 0\n",
    "for _ in range(len(v2)):\n",
    "    s12 += (v1[_] - v1.mean())*(v2[_] - v2.mean()) / len(v2)\n",
    "s12"
   ]
  },
  {
   "cell_type": "code",
   "execution_count": 11,
   "metadata": {
    "collapsed": false
   },
   "outputs": [
    {
     "data": {
      "text/plain": [
       "28.859375"
      ]
     },
     "execution_count": 11,
     "metadata": {},
     "output_type": "execute_result"
    }
   ],
   "source": [
    "s22 = 0\n",
    "for _ in range(len(v2)):\n",
    "    s22 += (v2[_] - v2.mean())*(v2[_] - v2.mean()) / len(v2)\n",
    "s22"
   ]
  },
  {
   "cell_type": "code",
   "execution_count": 12,
   "metadata": {
    "collapsed": false
   },
   "outputs": [
    {
     "data": {
      "text/plain": [
       "0.62033582089552242"
      ]
     },
     "execution_count": 12,
     "metadata": {},
     "output_type": "execute_result"
    }
   ],
   "source": [
    "beta = s12/s11\n",
    "beta"
   ]
  },
  {
   "cell_type": "code",
   "execution_count": 13,
   "metadata": {
    "collapsed": false
   },
   "outputs": [
    {
     "data": {
      "text/plain": [
       "24.937500000000007"
      ]
     },
     "execution_count": 13,
     "metadata": {},
     "output_type": "execute_result"
    }
   ],
   "source": [
    "sigma12 = beta * v1.std()**2\n",
    "sigma12"
   ]
  },
  {
   "cell_type": "code",
   "execution_count": 14,
   "metadata": {
    "collapsed": false
   },
   "outputs": [
    {
     "data": {
      "text/plain": [
       "28.859375000000007"
      ]
     },
     "execution_count": 14,
     "metadata": {},
     "output_type": "execute_result"
    }
   ],
   "source": [
    "sigma22 = s22 + beta*(sigma11 - s11)\n",
    "sigma22"
   ]
  },
  {
   "cell_type": "code",
   "execution_count": 15,
   "metadata": {
    "collapsed": true
   },
   "outputs": [],
   "source": [
    "n = len(v1)"
   ]
  },
  {
   "cell_type": "code",
   "execution_count": 16,
   "metadata": {
    "collapsed": false
   },
   "outputs": [
    {
     "name": "stdout",
     "output_type": "stream",
     "text": [
      "m: 8; m1: 0; m2: 2; n: 10\n"
     ]
    }
   ],
   "source": [
    "m1 = 0\n",
    "m2 = 2\n",
    "m = n - m1 - m2\n",
    "print 'm: %d; m1: %d; m2: %d; n: %d' % (m, m1, m2, n)"
   ]
  },
  {
   "cell_type": "code",
   "execution_count": 17,
   "metadata": {
    "collapsed": false
   },
   "outputs": [
    {
     "data": {
      "text/plain": [
       "array([[ 40.2     ,  24.9375  ],\n",
       "       [ 24.9375  ,  28.859375]])"
      ]
     },
     "execution_count": 17,
     "metadata": {},
     "output_type": "execute_result"
    }
   ],
   "source": [
    "covM = np.array([[sigma11, sigma12], [sigma12, sigma22]])\n",
    "covM"
   ]
  },
  {
   "cell_type": "code",
   "execution_count": 18,
   "metadata": {
    "collapsed": true
   },
   "outputs": [],
   "source": [
    "half = 1./2."
   ]
  },
  {
   "cell_type": "code",
   "execution_count": 19,
   "metadata": {
    "collapsed": false
   },
   "outputs": [
    {
     "data": {
      "text/plain": [
       "array([[ 8, 10],\n",
       "       [11, 14],\n",
       "       [16, 16],\n",
       "       [18, 15],\n",
       "       [ 6, 20],\n",
       "       [ 4,  4],\n",
       "       [20, 18],\n",
       "       [25, 22]])"
      ]
     },
     "execution_count": 19,
     "metadata": {},
     "output_type": "execute_result"
    }
   ],
   "source": [
    "V = np.concatenate([v1[:m].reshape(-1,1), v2.reshape(-1,1)], axis=1)\n",
    "V"
   ]
  },
  {
   "cell_type": "code",
   "execution_count": 20,
   "metadata": {
    "collapsed": false
   },
   "outputs": [
    {
     "name": "stdout",
     "output_type": "stream",
     "text": [
      "80.8610604326\n"
     ]
    }
   ],
   "source": [
    "ss = 0\n",
    "for _ in range(m):\n",
    "    ss += V[_].dot(inv(covM)).dot(V[_])\n",
    "print ss"
   ]
  },
  {
   "cell_type": "code",
   "execution_count": 21,
   "metadata": {
    "collapsed": false
   },
   "outputs": [
    {
     "data": {
      "text/plain": [
       "16.0"
      ]
     },
     "execution_count": 21,
     "metadata": {},
     "output_type": "execute_result"
    }
   ],
   "source": [
    "ss2 = 0\n",
    "for _ in range(m, n):\n",
    "    ss2 += (v1[_] - mu[0,0])**2\n",
    "ss2"
   ]
  },
  {
   "cell_type": "code",
   "execution_count": 22,
   "metadata": {
    "collapsed": false
   },
   "outputs": [],
   "source": [
    "l = -(m + half*(m1+m2)*log(2. * pi)) - half*m*log(det(covM)) \\\n",
    "-half*ss - half*(m1*log(sigma22) + m2*log(sigma11)) \\\n",
    "-half*(1./sigma11 * ss2)"
   ]
  },
  {
   "cell_type": "code",
   "execution_count": 23,
   "metadata": {
    "collapsed": false
   },
   "outputs": [
    {
     "name": "stdout",
     "output_type": "stream",
     "text": [
      "158.629410662\n"
     ]
    }
   ],
   "source": [
    "print l * -2"
   ]
  },
  {
   "cell_type": "code",
   "execution_count": 35,
   "metadata": {
    "collapsed": true
   },
   "outputs": [],
   "source": [
    "def ss(x, y):\n",
    "    return ((x-x.mean())*(y-y.mean())).sum()"
   ]
  },
  {
   "cell_type": "code",
   "execution_count": 34,
   "metadata": {
    "collapsed": false
   },
   "outputs": [
    {
     "name": "stdout",
     "output_type": "stream",
     "text": [
      "w1 13.500000 - w2 14.875000\n"
     ]
    }
   ],
   "source": [
    "w1 = v1[:m].mean()\n",
    "w2 = v2.mean()\n",
    "print 'w1 %.6f - w2 %.6f' % (w1, w2)"
   ]
  },
  {
   "cell_type": "code",
   "execution_count": 40,
   "metadata": {
    "collapsed": false
   },
   "outputs": [
    {
     "data": {
      "text/plain": [
       "48.0"
      ]
     },
     "execution_count": 40,
     "metadata": {},
     "output_type": "execute_result"
    }
   ],
   "source": [
    "ss(v1[:m], v1[:m])/m"
   ]
  },
  {
   "cell_type": "code",
   "execution_count": 41,
   "metadata": {
    "collapsed": false
   },
   "outputs": [
    {
     "data": {
      "text/plain": [
       "28.859375"
      ]
     },
     "execution_count": 41,
     "metadata": {},
     "output_type": "execute_result"
    }
   ],
   "source": [
    "ss(v2,v2)/m"
   ]
  },
  {
   "cell_type": "code",
   "execution_count": 42,
   "metadata": {
    "collapsed": false
   },
   "outputs": [
    {
     "data": {
      "text/plain": [
       "24.9375"
      ]
     },
     "execution_count": 42,
     "metadata": {},
     "output_type": "execute_result"
    }
   ],
   "source": [
    "ss(v1[:m], v2)/m"
   ]
  },
  {
   "cell_type": "code",
   "execution_count": null,
   "metadata": {
    "collapsed": true
   },
   "outputs": [],
   "source": []
  }
 ],
 "metadata": {
  "anaconda-cloud": {},
  "kernelspec": {
   "display_name": "Python [conda env:Python 2]",
   "language": "python",
   "name": "conda-env-Python 2-py"
  },
  "language_info": {
   "codemirror_mode": {
    "name": "ipython",
    "version": 2
   },
   "file_extension": ".py",
   "mimetype": "text/x-python",
   "name": "python",
   "nbconvert_exporter": "python",
   "pygments_lexer": "ipython2",
   "version": "2.7.12"
  }
 },
 "nbformat": 4,
 "nbformat_minor": 1
}
