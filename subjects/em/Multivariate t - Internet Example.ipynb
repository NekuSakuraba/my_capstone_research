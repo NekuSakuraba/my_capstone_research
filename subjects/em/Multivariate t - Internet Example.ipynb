{
 "cells": [
  {
   "cell_type": "markdown",
   "metadata": {},
   "source": [
    "###### source\n",
    "* https://gist.github.com/cdipaolo/9dd6794a4f0a2889ef60a5effa419093"
   ]
  },
  {
   "cell_type": "code",
   "execution_count": 1,
   "metadata": {
    "collapsed": true
   },
   "outputs": [],
   "source": [
    "import numpy as np\n",
    "from scipy import special"
   ]
  },
  {
   "cell_type": "code",
   "execution_count": 2,
   "metadata": {
    "collapsed": true
   },
   "outputs": [],
   "source": [
    "import matplotlib.pyplot as plt"
   ]
  },
  {
   "cell_type": "code",
   "execution_count": 3,
   "metadata": {
    "collapsed": false
   },
   "outputs": [],
   "source": [
    "%matplotlib inline"
   ]
  },
  {
   "cell_type": "code",
   "execution_count": 4,
   "metadata": {
    "collapsed": true
   },
   "outputs": [],
   "source": [
    "def t(X, dof=3.5, iter=200, eps=1e-6):\n",
    "    '''t\n",
    "    Estimates the mean and covariance of the dataset\n",
    "    X (rows are datapoints) assuming they come from a\n",
    "    student t likelihood with no priors and dof degrees\n",
    "    of freedom using the EM algorithm.\n",
    "    Implementation based on the algorithm detailed in Murphy\n",
    "    Section 11.4.5 (page 362).\n",
    "    :param X: dataset\n",
    "    :type  X: np.array[n,d]\n",
    "    :param dof: degrees of freedom for likelihood\n",
    "    :type  dof: float > 2\n",
    "    :param iter: maximum EM iterations\n",
    "    :type  iter: int\n",
    "    :param eps: tolerance for EM convergence\n",
    "    :type  eps: float\n",
    "    :return: estimated covariance, estimated mean, list of\n",
    "             objectives at each iteration.\n",
    "    :rtype: np.array[d,d], np.array[d], list[float]\n",
    "    '''\n",
    "    # initialize parameters\n",
    "    D = X.shape[1]\n",
    "    N = X.shape[0]\n",
    "    cov = np.cov(X,rowvar=False)\n",
    "    mean = X.mean(axis=0)\n",
    "    mu = X - mean[None,:]\n",
    "    delta = np.einsum('ij,ij->i', mu, np.linalg.solve(cov,mu.T).T)\n",
    "    z = (dof + D) / (dof + delta)\n",
    "    obj = [\n",
    "        -N*np.linalg.slogdet(cov)[1]/2 - (z*delta).sum()/2 \\\n",
    "        -N*special.gammaln(dof/2) + N*dof*np.log(dof/2)/2 + dof*(np.log(z)-z).sum()/2\n",
    "    ]\n",
    "\n",
    "    # iterate\n",
    "    for i in range(iter):\n",
    "        # M step\n",
    "        mean = (X * z[:,None]).sum(axis=0).reshape(-1,1) / z.sum()\n",
    "        mu = X - mean.squeeze()[None,:]\n",
    "        cov = np.einsum('ij,ik->jk', mu, mu * z[:,None])/N\n",
    "\n",
    "        # E step\n",
    "        delta = (mu * np.linalg.solve(cov,mu.T).T).sum(axis=1)\n",
    "        delta = np.einsum('ij,ij->i', mu, np.linalg.solve(cov,mu.T).T)\n",
    "        z = (dof + D) / (dof + delta)\n",
    "\n",
    "        # store objective\n",
    "        obj.append(\n",
    "            -N*np.linalg.slogdet(cov)[1]/2 - (z*delta).sum()/2 \\\n",
    "            -N*special.gammaln(dof/2) + N*dof*np.log(dof/2)/2 + dof*(np.log(z)-z).sum()/2\n",
    "        )   \n",
    "        \n",
    "        if np.abs(obj[-1] - obj[-2]) < eps:\n",
    "            break\n",
    "    return cov, mean.squeeze(), obj"
   ]
  },
  {
   "cell_type": "markdown",
   "metadata": {},
   "source": [
    "##### Generating t-Distribution random sample"
   ]
  },
  {
   "cell_type": "code",
   "execution_count": 5,
   "metadata": {
    "collapsed": true
   },
   "outputs": [],
   "source": [
    "from multivariate_util import *"
   ]
  },
  {
   "cell_type": "code",
   "execution_count": 6,
   "metadata": {
    "collapsed": true
   },
   "outputs": [],
   "source": [
    "mu_  = np.array([1.5, 1], dtype=np.float32)\n",
    "cov_ = np.array([[1, 0], [0, 1]], dtype=np.float32)"
   ]
  },
  {
   "cell_type": "code",
   "execution_count": 7,
   "metadata": {
    "collapsed": true
   },
   "outputs": [],
   "source": [
    "X = multivariate_t_rvs(mu_, cov_, 10, 75)"
   ]
  },
  {
   "cell_type": "markdown",
   "metadata": {},
   "source": [
    "##### Estimating the parameters"
   ]
  },
  {
   "cell_type": "code",
   "execution_count": 8,
   "metadata": {
    "collapsed": false
   },
   "outputs": [],
   "source": [
    "result = t(X)"
   ]
  },
  {
   "cell_type": "code",
   "execution_count": 9,
   "metadata": {
    "collapsed": false
   },
   "outputs": [
    {
     "name": "stdout",
     "output_type": "stream",
     "text": [
      "mu: [ 1.52471215  1.02431145]\n",
      "cov: [[ 0.95905663 -0.09955311]\n",
      " [-0.09955311  0.81183085]]\n"
     ]
    }
   ],
   "source": [
    "print 'mu: %s' % result[1]\n",
    "print 'cov: %s' % result[0]"
   ]
  },
  {
   "cell_type": "markdown",
   "metadata": {},
   "source": [
    "##### Plotting log-likelihood"
   ]
  },
  {
   "cell_type": "code",
   "execution_count": 10,
   "metadata": {
    "collapsed": false,
    "scrolled": true
   },
   "outputs": [
    {
     "data": {
      "text/plain": [
       "[<matplotlib.lines.Line2D at 0x8f56b70>]"
      ]
     },
     "execution_count": 10,
     "metadata": {},
     "output_type": "execute_result"
    },
    {
     "data": {
      "image/png": "[encoded data removed]",
      "text/plain": [
       "<matplotlib.figure.Figure at 0x8d3a668>"
      ]
     },
     "metadata": {},
     "output_type": "display_data"
    }
   ],
   "source": [
    "plt.plot(range(len(result[2])), result[2])"
   ]
  },
  {
   "cell_type": "markdown",
   "metadata": {},
   "source": [
    "##### Plotting contour"
   ]
  },
  {
   "cell_type": "code",
   "execution_count": 11,
   "metadata": {
    "collapsed": true
   },
   "outputs": [],
   "source": [
    "t_func = multivariate_t(result[1], result[0], 3.5)\n",
    "\n",
    "x, y = np.mgrid[-4:4:.1, -4:4:.1]\n",
    "xy = np.column_stack([x.ravel(), y.ravel()])"
   ]
  },
  {
   "cell_type": "code",
   "execution_count": 12,
   "metadata": {
    "collapsed": true
   },
   "outputs": [],
   "source": [
    "z = []\n",
    "for _ in xy:\n",
    "    z.append(t_func.pdf(_))\n",
    "z = np.reshape(z, x.shape)"
   ]
  },
  {
   "cell_type": "code",
   "execution_count": null,
   "metadata": {
    "collapsed": true
   },
   "outputs": [],
   "source": [
    "X = multivariate_t_rvs(m=mu, S=cov, df=df, n=75)"
   ]
  },
  {
   "cell_type": "code",
   "execution_count": 13,
   "metadata": {
    "collapsed": false
   },
   "outputs": [
    {
     "data": {
      "text/plain": [
       "<matplotlib.contour.QuadContourSet at 0x8fbbbe0>"
      ]
     },
     "execution_count": 13,
     "metadata": {},
     "output_type": "execute_result"
    },
    {
     "data": {
      "image/png": "[encoded data removed]",
      "text/plain": [
       "<matplotlib.figure.Figure at 0x8fbb550>"
      ]
     },
     "metadata": {},
     "output_type": "display_data"
    }
   ],
   "source": [
    "plt.scatter(X.T[0], X.T[1])\n",
    "plt.contour(x, y, z)"
   ]
  }
 ],
 "metadata": {
  "kernelspec": {
   "display_name": "Python 2",
   "language": "python",
   "name": "python2"
  },
  "language_info": {
   "codemirror_mode": {
    "name": "ipython",
    "version": 2
   },
   "file_extension": ".py",
   "mimetype": "text/x-python",
   "name": "python",
   "nbconvert_exporter": "python",
   "pygments_lexer": "ipython2",
   "version": "2.7.13"
  }
 },
 "nbformat": 4,
 "nbformat_minor": 2
}
