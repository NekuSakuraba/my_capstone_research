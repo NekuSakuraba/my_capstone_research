{
 "cells": [
  {
   "cell_type": "code",
   "execution_count": 1,
   "metadata": {
    "collapsed": true
   },
   "outputs": [],
   "source": [
    "import numpy as np\n",
    "import matplotlib.pyplot as plt\n",
    "\n",
    "from scipy.linalg  import cholesky, solve_triangular\n",
    "from scipy.special import logsumexp"
   ]
  },
  {
   "cell_type": "code",
   "execution_count": 2,
   "metadata": {
    "collapsed": true
   },
   "outputs": [],
   "source": [
    "def random_choice(X):\n",
    "    arr = range(len(X))\n",
    "    idx = np.random.choice(arr)\n",
    "    return X[idx]"
   ]
  },
  {
   "cell_type": "code",
   "execution_count": 3,
   "metadata": {
    "collapsed": true
   },
   "outputs": [],
   "source": [
    "def compute_prec_chol(cov):\n",
    "    _, p = np.array(cov).shape\n",
    "    cov_chol = cholesky(cov, lower=True)\n",
    "    return solve_triangular(cov_chol, np.eye(p), lower=True).T"
   ]
  },
  {
   "cell_type": "code",
   "execution_count": 54,
   "metadata": {
    "collapsed": true
   },
   "outputs": [],
   "source": [
    "def compute_mahalanobis(X, mu, prc_chol):\n",
    "    y = np.dot(X, prc_chol) - np.dot(mu, prc_chol)\n",
    "    return np.sum(np.square(y), axis=1)"
   ]
  },
  {
   "cell_type": "code",
   "execution_count": 168,
   "metadata": {
    "collapsed": true
   },
   "outputs": [],
   "source": [
    "np.random.seed(0)"
   ]
  },
  {
   "cell_type": "code",
   "execution_count": 169,
   "metadata": {},
   "outputs": [
    {
     "data": {
      "text/plain": [
       "array([[ 1.76405235, -0.36918184],\n",
       "       [ 0.40015721, -0.23937918],\n",
       "       [ 0.97873798,  1.0996596 ],\n",
       "       [ 2.2408932 ,  0.65526373],\n",
       "       [ 1.86755799,  0.64013153]])"
      ]
     },
     "execution_count": 169,
     "metadata": {},
     "output_type": "execute_result"
    }
   ],
   "source": [
    "X1 = np.c_[np.random.randn(200), np.random.randn(200)]\n",
    "X2 = np.c_[np.random.randn(200)*.5 + 1, np.random.randn(200)*.5 + 1]\n",
    "X  = np.r_[X1, X2]\n",
    "X[:5]"
   ]
  },
  {
   "cell_type": "code",
   "execution_count": 72,
   "metadata": {},
   "outputs": [
    {
     "data": {
      "image/png": "[encoded data removed]",
      "text/plain": [
       "<matplotlib.figure.Figure at 0xc5cb198>"
      ]
     },
     "metadata": {},
     "output_type": "display_data"
    }
   ],
   "source": [
    "plt.scatter(X1[:,0], X1[:,1], alpha=.5, c='b')\n",
    "plt.scatter(X2[:,0], X2[:,1], alpha=.5, c='r')\n",
    "plt.show()"
   ]
  },
  {
   "cell_type": "code",
   "execution_count": 132,
   "metadata": {},
   "outputs": [
    {
     "name": "stdout",
     "output_type": "stream",
     "text": [
      "initial guesses\n",
      "mu01:  [ 0.95703462  1.51720494]\n",
      "cov01: [[ 0.84827923  0.26456369]\n",
      " [ 0.26456369  0.84797968]]\n",
      "\n",
      "mu02:  [ 0.97663904 -1.06001582]\n",
      "cov02: [[ 0.84827923  0.26456369]\n",
      " [ 0.26456369  0.84797968]]\n"
     ]
    }
   ],
   "source": [
    "mu01  = random_choice(X)\n",
    "cov01 = np.cov(X.T)\n",
    "\n",
    "mu02  = random_choice(X)\n",
    "cov02 = np.cov(X.T)\n",
    "\n",
    "print 'initial guesses'\n",
    "print 'mu01:  {0}\\ncov01: {1}'.format(mu01, cov01)\n",
    "print '\\nmu02:  {0}\\ncov02: {1}'.format(mu02, cov02)"
   ]
  },
  {
   "cell_type": "code",
   "execution_count": 133,
   "metadata": {},
   "outputs": [
    {
     "data": {
      "text/plain": [
       "array([[ 0.52945557,  0.47054443],\n",
       "       [ 0.28827001,  0.71172999],\n",
       "       [ 0.51075656,  0.48924344],\n",
       "       [ 0.82684324,  0.17315676],\n",
       "       [ 0.68782731,  0.31217269]])"
      ]
     },
     "execution_count": 133,
     "metadata": {},
     "output_type": "execute_result"
    }
   ],
   "source": [
    "tau = np.random.rand(*X.shape)\n",
    "tau = tau / tau.sum(1)[:, np.newaxis]\n",
    "tau[:5]"
   ]
  },
  {
   "cell_type": "code",
   "execution_count": 158,
   "metadata": {},
   "outputs": [
    {
     "name": "stdout",
     "output_type": "stream",
     "text": [
      "[[-2.3759527  -0.09753115]\n",
      " [-0.89709154 -0.52383298]\n",
      " [-0.02907126 -3.55250566]\n",
      " [-0.41459453 -1.08059974]\n",
      " [-0.30884525 -1.32536634]\n",
      " [-3.56929003 -0.02858041]\n",
      " [-0.81978741 -0.58075697]\n",
      " [-1.67117371 -0.20828727]\n",
      " [-0.13670755 -2.05748651]\n",
      " [-0.64813997 -0.7402759 ]]\n"
     ]
    }
   ],
   "source": [
    "_, p = X.shape\n",
    "# e-step\n",
    "\n",
    "prc_chol = compute_prec_chol(cov01)\n",
    "log_det  = np.log(prc_chol.reshape(1, -1)[:,::p+1]).sum()\n",
    "mahalanobis = compute_mahalanobis(X, mu01, prc_chol)\n",
    "\n",
    "tau01 = -p*.5*np.log(2 * np.pi) + log_det -.5*mahalanobis\n",
    "\n",
    "prc_chol = compute_prec_chol(cov02)\n",
    "log_det  = np.log(prc_chol.reshape(1, -1)[:,::p+1]).sum()\n",
    "mahalanobis = compute_mahalanobis(X, mu02, prc_chol)\n",
    "\n",
    "tau02 = -p*.5*np.log(2 * np.pi) + log_det -.5*mahalanobis\n",
    "\n",
    "tau = np.c_[tau01, tau02] + np.log(tau.sum(axis=0))\n",
    "\n",
    "log_resp = tau - logsumexp(tau, axis=1)[:, np.newaxis]\n",
    "print log_resp[:10]"
   ]
  },
  {
   "cell_type": "code",
   "execution_count": 115,
   "metadata": {},
   "outputs": [
    {
     "name": "stdout",
     "output_type": "stream",
     "text": [
      "[[-2.95511119 -0.05347765]\n",
      " [-1.31068269 -0.31421212]\n",
      " [-0.05355118 -2.95377358]\n",
      " [-0.67197947 -0.71477267]\n",
      " [-0.51570578 -0.90901487]\n",
      " [-4.17934849 -0.01542686]\n",
      " [-1.21445741 -0.35221497]\n",
      " [-2.20314401 -0.11704556]\n",
      " [-0.24153002 -1.53909698]\n",
      " [-0.99353376 -0.46245769]]\n",
      "mu01:  [ 0.5304561   0.84848614]\n",
      "cov01: [[ 0.79401367  0.19638268]\n",
      " [ 0.19638268  0.36941055]]\n",
      "\n",
      "mu02:  [ 0.46765305 -0.42491439]\n",
      "cov02: [[ 0.94072667  0.3376388 ]\n",
      " [ 0.3376388   0.67825639]]\n"
     ]
    }
   ],
   "source": [
    "tau  = np.exp(log_resp)\n",
    "mu01 = np.dot(tau[:,0], X) / np.sum(tau, 0)[:, np.newaxis][0]\n",
    "mu02 = np.dot(tau[:,1], X) / np.sum(tau, 0)[:, np.newaxis][1]\n",
    "\n",
    "diff = X - mu01\n",
    "cov01 = np.dot(tau[:, 0] * diff.T, diff) / np.sum(tau, 0)[:, np.newaxis][0]\n",
    "\n",
    "diff = X - mu02\n",
    "cov02 = np.dot(tau[:, 1] * diff.T, diff) / np.sum(tau, 0)[:, np.newaxis][1]\n",
    "\n",
    "print 'mu01:  {0}\\ncov01: {1}'.format(mu01, cov01)\n",
    "print '\\nmu02:  {0}\\ncov02: {1}'.format(mu02, cov02)"
   ]
  },
  {
   "cell_type": "code",
   "execution_count": 76,
   "metadata": {
    "collapsed": true
   },
   "outputs": [],
   "source": [
    "def compute_prec_chol(cov):\n",
    "    _, p = np.array(cov).shape\n",
    "    cov_chol = cholesky(cov, lower=True)\n",
    "    return solve_triangular(cov_chol, np.eye(p), lower=True).T"
   ]
  },
  {
   "cell_type": "code",
   "execution_count": 40,
   "metadata": {
    "scrolled": true
   },
   "outputs": [],
   "source": [
    "def compute_precs_chol(covs):\n",
    "    _, p, p = np.array(covs).shape\n",
    "    precs_chol = np.empty((n_components, p, p))\n",
    "    for k, cov in enumerate(covs):\n",
    "        cov_chol = cholesky(cov, lower=True)\n",
    "        precs_chol[k] = solve_triangular(cov_chol, np.eye(p), lower=True).T\n",
    "    return precs_chol"
   ]
  },
  {
   "cell_type": "code",
   "execution_count": 167,
   "metadata": {
    "scrolled": true
   },
   "outputs": [],
   "source": [
    "def e_step(X, tau, mus, covs):\n",
    "    n_samples, p = X.shape\n",
    "    \n",
    "    prc_chols = compute_precs_chol(covs)\n",
    "    log_det = np.log(prc_chols.reshape(n_components, -1)[:,::p+1]).sum(axis=1)\n",
    "    \n",
    "    log_prob = np.empty((n_samples, n_components))\n",
    "    for k, (mu, prc_chol) in enumerate(zip(mus, prc_chols)):\n",
    "        log_prob[:, k] = compute_mahalanobis(X, mu, prc_chol)\n",
    "\n",
    "    weighted_log = .5*(-p * np.log(2 * np.pi) - log_prob) + log_det + np.log(tau.sum(axis=0))\n",
    "    log_resp = weighted_log - logsumexp(weighted_log, axis=1)[:, np.newaxis]\n",
    "    \n",
    "    return log_resp"
   ]
  },
  {
   "cell_type": "code",
   "execution_count": 185,
   "metadata": {},
   "outputs": [
    {
     "data": {
      "text/plain": [
       "array([[ 0.64274563,  0.35725437],\n",
       "       [ 0.74005184,  0.25994816],\n",
       "       [ 0.59288973,  0.40711027],\n",
       "       [ 0.86452541,  0.13547459],\n",
       "       [ 0.81889431,  0.18110569]])"
      ]
     },
     "execution_count": 185,
     "metadata": {},
     "output_type": "execute_result"
    }
   ],
   "source": [
    "n_components = 2\n",
    "mu  = np.c_[random_choice(X), random_choice(X)].T\n",
    "cov = np.r_[np.cov(X.T), np.cov(X.T)].reshape(2, 2, -1)\n",
    "\n",
    "tau = np.random.rand(*X.shape)\n",
    "tau = tau / tau.sum(1)[:, np.newaxis]\n",
    "tau[:5]"
   ]
  },
  {
   "cell_type": "code",
   "execution_count": 186,
   "metadata": {},
   "outputs": [
    {
     "name": "stdout",
     "output_type": "stream",
     "text": [
      "initial guesses\n",
      "mu:  [[ 0.61407937 -0.0616264 ]\n",
      " [ 0.92085882  0.28044171]]\n",
      "cov: [[[ 0.84827923  0.26456369]\n",
      "  [ 0.26456369  0.84797968]]\n",
      "\n",
      " [[ 0.84827923  0.26456369]\n",
      "  [ 0.26456369  0.84797968]]]\n"
     ]
    }
   ],
   "source": [
    "print 'initial guesses'\n",
    "print 'mu:  {0}\\ncov: {1}'.format(mu, cov)"
   ]
  },
  {
   "cell_type": "code",
   "execution_count": 187,
   "metadata": {},
   "outputs": [],
   "source": [
    "_, p = X.shape\n",
    "bottom = -np.inf\n",
    "\n",
    "l = []\n",
    "for _ in range(100):\n",
    "    prev = bottom\n",
    "    \n",
    "    log_resp = e_step(X, tau, mu, cov)\n",
    "    tau = np.exp(log_resp)\n",
    "    \n",
    "    mu = np.dot(tau.T, X) / np.sum(tau, 0)[:, np.newaxis]\n",
    "    pi = np.sum(tau, 0)[:, np.newaxis]\n",
    "    cov = np.empty((n_components, p, p))\n",
    "    for k, _ in enumerate(mu):\n",
    "        diff = X - _\n",
    "        cov[k] = np.dot(tau[:, k] * diff.T, diff) / pi[k]\n",
    "        \n",
    "    bottom = np.mean(log_resp)\n",
    "    l.append(bottom)\n",
    "    if abs(bottom - prev) < 1e-4:\n",
    "        break"
   ]
  },
  {
   "cell_type": "code",
   "execution_count": 188,
   "metadata": {},
   "outputs": [
    {
     "name": "stdout",
     "output_type": "stream",
     "text": [
      "mu:  [[-0.06177309 -0.13892431]\n",
      " [ 1.03817953  0.90761533]]\n",
      "cov: [[[ 0.88068705 -0.00958111]\n",
      "  [-0.00958111  0.88970461]]\n",
      "\n",
      " [[ 0.23148778 -0.03641   ]\n",
      "  [-0.03641     0.27774414]]]\n"
     ]
    }
   ],
   "source": [
    "print 'mu:  {0}\\ncov: {1}'.format(mu, cov)"
   ]
  },
  {
   "cell_type": "code",
   "execution_count": 189,
   "metadata": {},
   "outputs": [
    {
     "data": {
      "image/png": "[encoded data removed]",
      "text/plain": [
       "<matplotlib.figure.Figure at 0x1d0870b8>"
      ]
     },
     "metadata": {},
     "output_type": "display_data"
    }
   ],
   "source": [
    "arr = range(len(l))\n",
    "plt.scatter(arr, l)\n",
    "plt.show()"
   ]
  },
  {
   "cell_type": "code",
   "execution_count": 65,
   "metadata": {},
   "outputs": [
    {
     "data": {
      "text/plain": [
       "array([[[ 1.01054513,  0.47615685],\n",
       "        [ 0.47615685,  1.16489456]],\n",
       "\n",
       "       [[ 0.91478118,  0.42780149],\n",
       "        [ 0.42780149,  1.14416135]]])"
      ]
     },
     "execution_count": 65,
     "metadata": {},
     "output_type": "execute_result"
    }
   ],
   "source": [
    "pi = np.sum(tau, 0)[:, np.newaxis]\n",
    "cov = np.empty((n_components, p, p))\n",
    "for k, _ in enumerate(mu):\n",
    "    diff = X - _\n",
    "    cov[k] = np.dot(tau[:, k] * diff.T, diff) / pi[k]"
   ]
  },
  {
   "cell_type": "code",
   "execution_count": null,
   "metadata": {
    "collapsed": true
   },
   "outputs": [],
   "source": []
  },
  {
   "cell_type": "code",
   "execution_count": null,
   "metadata": {
    "collapsed": true
   },
   "outputs": [],
   "source": []
  },
  {
   "cell_type": "code",
   "execution_count": null,
   "metadata": {
    "collapsed": true
   },
   "outputs": [],
   "source": []
  },
  {
   "cell_type": "code",
   "execution_count": null,
   "metadata": {
    "collapsed": true
   },
   "outputs": [],
   "source": []
  },
  {
   "cell_type": "code",
   "execution_count": null,
   "metadata": {
    "collapsed": true
   },
   "outputs": [],
   "source": []
  },
  {
   "cell_type": "code",
   "execution_count": null,
   "metadata": {
    "collapsed": true
   },
   "outputs": [],
   "source": []
  },
  {
   "cell_type": "code",
   "execution_count": null,
   "metadata": {
    "collapsed": true
   },
   "outputs": [],
   "source": []
  },
  {
   "cell_type": "code",
   "execution_count": null,
   "metadata": {
    "collapsed": true
   },
   "outputs": [],
   "source": []
  },
  {
   "cell_type": "code",
   "execution_count": null,
   "metadata": {
    "collapsed": true
   },
   "outputs": [],
   "source": []
  },
  {
   "cell_type": "code",
   "execution_count": null,
   "metadata": {
    "collapsed": true
   },
   "outputs": [],
   "source": []
  },
  {
   "cell_type": "code",
   "execution_count": null,
   "metadata": {
    "collapsed": true
   },
   "outputs": [],
   "source": []
  },
  {
   "cell_type": "code",
   "execution_count": null,
   "metadata": {
    "collapsed": true
   },
   "outputs": [],
   "source": []
  }
 ],
 "metadata": {
  "kernelspec": {
   "display_name": "Python 2",
   "language": "python",
   "name": "python2"
  },
  "language_info": {
   "codemirror_mode": {
    "name": "ipython",
    "version": 2
   },
   "file_extension": ".py",
   "mimetype": "text/x-python",
   "name": "python",
   "nbconvert_exporter": "python",
   "pygments_lexer": "ipython2",
   "version": "2.7.12"
  },
  "varInspector": {
   "cols": {
    "lenName": 16,
    "lenType": 16,
    "lenVar": 40
   },
   "kernels_config": {
    "python": {
     "delete_cmd_postfix": "",
     "delete_cmd_prefix": "del ",
     "library": "var_list.py",
     "varRefreshCmd": "print(var_dic_list())"
    },
    "r": {
     "delete_cmd_postfix": ") ",
     "delete_cmd_prefix": "rm(",
     "library": "var_list.r",
     "varRefreshCmd": "cat(var_dic_list()) "
    }
   },
   "types_to_exclude": [
    "module",
    "function",
    "builtin_function_or_method",
    "instance",
    "_Feature"
   ],
   "window_display": false
  }
 },
 "nbformat": 4,
 "nbformat_minor": 2
}
