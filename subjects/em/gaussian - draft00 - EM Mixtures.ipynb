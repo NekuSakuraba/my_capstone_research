{
 "cells": [
  {
   "cell_type": "code",
   "execution_count": 66,
   "metadata": {
    "collapsed": true
   },
   "outputs": [],
   "source": [
    "import numpy as np\n",
    "import matplotlib.pyplot as plt\n",
    "\n",
    "from scipy.linalg  import cholesky, solve_triangular\n",
    "from scipy.special import logsumexp"
   ]
  },
  {
   "cell_type": "code",
   "execution_count": 28,
   "metadata": {
    "collapsed": true
   },
   "outputs": [],
   "source": [
    "def random_choice(X):\n",
    "    arr = range(len(X))\n",
    "    idx = np.random.choice(arr)\n",
    "    return X[idx]"
   ]
  },
  {
   "cell_type": "code",
   "execution_count": 178,
   "metadata": {
    "collapsed": true
   },
   "outputs": [],
   "source": [
    "def compute_prec_chol(cov):\n",
    "    _, p = np.array(cov).shape\n",
    "    cov_chol = cholesky(cov, lower=True)\n",
    "    return solve_triangular(cov_chol, np.eye(p), lower=True).T"
   ]
  },
  {
   "cell_type": "code",
   "execution_count": 179,
   "metadata": {
    "collapsed": true
   },
   "outputs": [],
   "source": [
    "def compute_mahalanobis(X, mu, prc_chol):\n",
    "    y = np.dot(X, prc_chol) - np.dot(mu, prc_chol)\n",
    "    return np.sum(np.square(y), axis=1).reshape(-1, 1)"
   ]
  },
  {
   "cell_type": "code",
   "execution_count": 195,
   "metadata": {
    "collapsed": true
   },
   "outputs": [],
   "source": [
    "np.random.seed(0)"
   ]
  },
  {
   "cell_type": "code",
   "execution_count": 196,
   "metadata": {},
   "outputs": [
    {
     "data": {
      "text/plain": [
       "array([[ 1.76405235, -0.36918184],\n",
       "       [ 0.40015721, -0.23937918],\n",
       "       [ 0.97873798,  1.0996596 ],\n",
       "       [ 2.2408932 ,  0.65526373],\n",
       "       [ 1.86755799,  0.64013153]])"
      ]
     },
     "execution_count": 196,
     "metadata": {},
     "output_type": "execute_result"
    }
   ],
   "source": [
    "X1 = np.c_[np.random.randn(200), np.random.randn(200)]\n",
    "X2 = np.c_[np.random.randn(200)*.5 + 1, np.random.randn(200)*.5 + 1]\n",
    "X  = np.r_[X1, X2]\n",
    "X[:5]"
   ]
  },
  {
   "cell_type": "code",
   "execution_count": 197,
   "metadata": {},
   "outputs": [
    {
     "data": {
      "image/png": "[encoded data removed]",
      "text/plain": [
       "<matplotlib.figure.Figure at 0xbb90eb8>"
      ]
     },
     "metadata": {},
     "output_type": "display_data"
    }
   ],
   "source": [
    "plt.scatter(X1[:,0], X1[:,1], alpha=.5, c='b')\n",
    "plt.scatter(X2[:,0], X2[:,1], alpha=.5, c='r')\n",
    "plt.show()"
   ]
  },
  {
   "cell_type": "code",
   "execution_count": 198,
   "metadata": {},
   "outputs": [
    {
     "name": "stdout",
     "output_type": "stream",
     "text": [
      "initial guesses\n",
      "mu01:  [ 0.95703462  1.51720494]\n",
      "cov01: [[ 0.84827923  0.26456369]\n",
      " [ 0.26456369  0.84797968]]\n",
      "\n",
      "mu02:  [ 0.97663904 -1.06001582]\n",
      "cov02: [[ 0.84827923  0.26456369]\n",
      " [ 0.26456369  0.84797968]]\n"
     ]
    }
   ],
   "source": [
    "mu01  = random_choice(X)\n",
    "cov01 = np.cov(X.T)\n",
    "\n",
    "mu02  = random_choice(X)\n",
    "cov02 = np.cov(X.T)\n",
    "\n",
    "print 'initial guesses'\n",
    "print 'mu01:  {0}\\ncov01: {1}'.format(mu01, cov01)\n",
    "print '\\nmu02:  {0}\\ncov02: {1}'.format(mu02, cov02)"
   ]
  },
  {
   "cell_type": "code",
   "execution_count": 199,
   "metadata": {},
   "outputs": [
    {
     "data": {
      "text/plain": [
       "array([[ 0.52945557,  0.47054443],\n",
       "       [ 0.28827001,  0.71172999],\n",
       "       [ 0.51075656,  0.48924344],\n",
       "       [ 0.82684324,  0.17315676],\n",
       "       [ 0.68782731,  0.31217269]])"
      ]
     },
     "execution_count": 199,
     "metadata": {},
     "output_type": "execute_result"
    }
   ],
   "source": [
    "tau = np.random.rand(*X.shape)\n",
    "tau = tau / tau.sum(1)[:, np.newaxis]\n",
    "tau[:5]"
   ]
  },
  {
   "cell_type": "code",
   "execution_count": 456,
   "metadata": {},
   "outputs": [
    {
     "name": "stdout",
     "output_type": "stream",
     "text": [
      "mu01:  [ 1.03784318  0.90709223]\n",
      "cov01: [[ 0.23218966 -0.03665479]\n",
      " [-0.03665479  0.27867941]]\n",
      "\n",
      "mu02:  [-0.0650233  -0.14179665]\n",
      "cov02: [[ 0.87887505 -0.01201526]\n",
      " [-0.01201526  0.88828083]]\n"
     ]
    }
   ],
   "source": [
    "_, p = X.shape\n",
    "# e-step\n",
    "\n",
    "prc_chol = compute_prec_chol(cov01)\n",
    "log_det  = np.log(prc_chol.reshape(1, -1)[:,::p+1]).sum()\n",
    "mahalanobis = compute_mahalanobis(X, mu01, prc_chol)\n",
    "\n",
    "tau01 = -p*.5*np.log(2 * np.pi) + log_det -.5*mahalanobis\n",
    "\n",
    "prc_chol = compute_prec_chol(cov02)\n",
    "log_det  = np.log(prc_chol.reshape(1, -1)[:,::p+1]).sum()\n",
    "mahalanobis = compute_mahalanobis(X, mu02, prc_chol)\n",
    "\n",
    "tau02 = -p*.5*np.log(2 * np.pi) + log_det -.5*mahalanobis\n",
    "\n",
    "tau = np.c_[tau01, tau02] + np.log(tau.sum(axis=0))\n",
    "\n",
    "log_resp = tau - logsumexp(tau, axis=1)[:, np.newaxis]\n",
    "\n",
    "tau  = np.exp(log_resp)\n",
    "mu01 = np.dot(tau[:,0], X) / np.sum(tau, 0)[:, np.newaxis][0]\n",
    "mu02 = np.dot(tau[:,1], X) / np.sum(tau, 0)[:, np.newaxis][1]\n",
    "\n",
    "diff = X - mu01\n",
    "cov01 = np.dot(tau[:, 0] * diff.T, diff) / np.sum(tau, 0)[:, np.newaxis][0]\n",
    "\n",
    "diff = X - mu02\n",
    "cov02 = np.dot(tau[:, 1] * diff.T, diff) / np.sum(tau, 0)[:, np.newaxis][1]\n",
    "\n",
    "print 'mu01:  {0}\\ncov01: {1}'.format(mu01, cov01)\n",
    "print '\\nmu02:  {0}\\ncov02: {1}'.format(mu02, cov02)"
   ]
  }
 ],
 "metadata": {
  "kernelspec": {
   "display_name": "Python 2",
   "language": "python",
   "name": "python2"
  },
  "language_info": {
   "codemirror_mode": {
    "name": "ipython",
    "version": 2
   },
   "file_extension": ".py",
   "mimetype": "text/x-python",
   "name": "python",
   "nbconvert_exporter": "python",
   "pygments_lexer": "ipython2",
   "version": "2.7.13"
  }
 },
 "nbformat": 4,
 "nbformat_minor": 2
}
